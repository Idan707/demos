{
 "cells": [
  {
   "cell_type": "code",
   "execution_count": 1,
   "metadata": {},
   "outputs": [],
   "source": [
    "from dask.distributed import Client\n",
    "import dask.dataframe as dd\n",
    "\n",
    "import vaex as vx\n",
    "\n",
    "from pyspark.sql import SparkSession\n",
    "from pyspark.files import SparkFiles\n",
    "import pyspark.sql.functions as f\n",
    "\n",
    "\n",
    "import warnings \n",
    "warnings.filterwarnings(\"ignore\")"
   ]
  },
  {
   "cell_type": "markdown",
   "metadata": {},
   "source": [
    "# Init Dask and Spark"
   ]
  },
  {
   "cell_type": "code",
   "execution_count": 2,
   "metadata": {},
   "outputs": [],
   "source": [
    "DATA = '/User/yellow_tripdata.csv'\n",
    "DATAv = 'yellow_tripdata.csv'"
   ]
  },
  {
   "cell_type": "code",
   "execution_count": 3,
   "metadata": {},
   "outputs": [],
   "source": [
    "DASK_CLIENT = \"tcp://mlrun-mydask-3707e08d-4.default-tenant:8786\"\n",
    "client = Client(DASK_CLIENT)"
   ]
  },
  {
   "cell_type": "code",
   "execution_count": 4,
   "metadata": {},
   "outputs": [],
   "source": [
    "# init spark\n",
    "spark = SparkSession.builder.appName(\"Spark job\").getOrCreate()"
   ]
  },
  {
   "cell_type": "markdown",
   "metadata": {},
   "source": [
    "# Read ~80MB csv file"
   ]
  },
  {
   "cell_type": "markdown",
   "metadata": {},
   "source": [
    "## Vaex"
   ]
  },
  {
   "cell_type": "code",
   "execution_count": 5,
   "metadata": {},
   "outputs": [
    {
     "name": "stdout",
     "output_type": "stream",
     "text": [
      "CPU times: user 1.46 s, sys: 189 ms, total: 1.65 s\n",
      "Wall time: 1.86 s\n"
     ]
    },
    {
     "data": {
      "text/html": [
       "<table>\n",
       "<thead>\n",
       "<tr><th>#                            </th><th style=\"text-align: right;\">  VendorID</th><th>tpep_pickup_datetime  </th><th>tpep_dropoff_datetime  </th><th style=\"text-align: right;\">  passenger_count</th><th style=\"text-align: right;\">  trip_distance</th><th style=\"text-align: right;\">  RatecodeID</th><th>store_and_fwd_flag  </th><th style=\"text-align: right;\">  PULocationID</th><th style=\"text-align: right;\">  DOLocationID</th><th style=\"text-align: right;\">  payment_type</th><th style=\"text-align: right;\">  fare_amount</th><th style=\"text-align: right;\">  extra</th><th style=\"text-align: right;\">  mta_tax</th><th style=\"text-align: right;\">  tip_amount</th><th style=\"text-align: right;\">  tolls_amount</th><th style=\"text-align: right;\">  improvement_surcharge</th><th style=\"text-align: right;\">  total_amount</th><th style=\"text-align: right;\">  congestion_surcharge</th></tr>\n",
       "</thead>\n",
       "<tbody>\n",
       "<tr><td><i style='opacity: 0.6'>0</i></td><td style=\"text-align: right;\">         1</td><td>01/01/2019 0:46       </td><td>01/01/2019 0:53        </td><td style=\"text-align: right;\">                1</td><td style=\"text-align: right;\">            1.5</td><td style=\"text-align: right;\">           1</td><td>N                   </td><td style=\"text-align: right;\">           151</td><td style=\"text-align: right;\">           239</td><td style=\"text-align: right;\">             1</td><td style=\"text-align: right;\">          7  </td><td style=\"text-align: right;\">    0.5</td><td style=\"text-align: right;\">      0.5</td><td style=\"text-align: right;\">        1.65</td><td style=\"text-align: right;\">             0</td><td style=\"text-align: right;\">                    0.3</td><td style=\"text-align: right;\">          9.95</td><td style=\"text-align: right;\">                   nan</td></tr>\n",
       "<tr><td><i style='opacity: 0.6'>1</i></td><td style=\"text-align: right;\">         1</td><td>01/01/2019 0:59       </td><td>01/01/2019 1:18        </td><td style=\"text-align: right;\">                1</td><td style=\"text-align: right;\">            2.6</td><td style=\"text-align: right;\">           1</td><td>N                   </td><td style=\"text-align: right;\">           239</td><td style=\"text-align: right;\">           246</td><td style=\"text-align: right;\">             1</td><td style=\"text-align: right;\">         14  </td><td style=\"text-align: right;\">    0.5</td><td style=\"text-align: right;\">      0.5</td><td style=\"text-align: right;\">        1   </td><td style=\"text-align: right;\">             0</td><td style=\"text-align: right;\">                    0.3</td><td style=\"text-align: right;\">         16.3 </td><td style=\"text-align: right;\">                   nan</td></tr>\n",
       "<tr><td><i style='opacity: 0.6'>2</i></td><td style=\"text-align: right;\">         2</td><td>21/12/2018 13:48      </td><td>21/12/2018 13:52       </td><td style=\"text-align: right;\">                3</td><td style=\"text-align: right;\">            0  </td><td style=\"text-align: right;\">           1</td><td>N                   </td><td style=\"text-align: right;\">           236</td><td style=\"text-align: right;\">           236</td><td style=\"text-align: right;\">             1</td><td style=\"text-align: right;\">          4.5</td><td style=\"text-align: right;\">    0.5</td><td style=\"text-align: right;\">      0.5</td><td style=\"text-align: right;\">        0   </td><td style=\"text-align: right;\">             0</td><td style=\"text-align: right;\">                    0.3</td><td style=\"text-align: right;\">          5.8 </td><td style=\"text-align: right;\">                   nan</td></tr>\n",
       "<tr><td><i style='opacity: 0.6'>3</i></td><td style=\"text-align: right;\">         2</td><td>28/11/2018 15:52      </td><td>28/11/2018 15:55       </td><td style=\"text-align: right;\">                5</td><td style=\"text-align: right;\">            0  </td><td style=\"text-align: right;\">           1</td><td>N                   </td><td style=\"text-align: right;\">           193</td><td style=\"text-align: right;\">           193</td><td style=\"text-align: right;\">             2</td><td style=\"text-align: right;\">          3.5</td><td style=\"text-align: right;\">    0.5</td><td style=\"text-align: right;\">      0.5</td><td style=\"text-align: right;\">        0   </td><td style=\"text-align: right;\">             0</td><td style=\"text-align: right;\">                    0.3</td><td style=\"text-align: right;\">          7.55</td><td style=\"text-align: right;\">                   nan</td></tr>\n",
       "<tr><td><i style='opacity: 0.6'>4</i></td><td style=\"text-align: right;\">         2</td><td>28/11/2018 15:56      </td><td>28/11/2018 15:58       </td><td style=\"text-align: right;\">                5</td><td style=\"text-align: right;\">            0  </td><td style=\"text-align: right;\">           2</td><td>N                   </td><td style=\"text-align: right;\">           193</td><td style=\"text-align: right;\">           193</td><td style=\"text-align: right;\">             2</td><td style=\"text-align: right;\">         52  </td><td style=\"text-align: right;\">    0  </td><td style=\"text-align: right;\">      0.5</td><td style=\"text-align: right;\">        0   </td><td style=\"text-align: right;\">             0</td><td style=\"text-align: right;\">                    0.3</td><td style=\"text-align: right;\">         55.55</td><td style=\"text-align: right;\">                   nan</td></tr>\n",
       "</tbody>\n",
       "</table>"
      ],
      "text/plain": [
       "  #    VendorID  tpep_pickup_datetime    tpep_dropoff_datetime      passenger_count    trip_distance    RatecodeID  store_and_fwd_flag      PULocationID    DOLocationID    payment_type    fare_amount    extra    mta_tax    tip_amount    tolls_amount    improvement_surcharge    total_amount    congestion_surcharge\n",
       "  0           1  01/01/2019 0:46         01/01/2019 0:53                          1              1.5             1  N                                151             239               1            7        0.5        0.5          1.65               0                      0.3            9.95                     nan\n",
       "  1           1  01/01/2019 0:59         01/01/2019 1:18                          1              2.6             1  N                                239             246               1           14        0.5        0.5          1                  0                      0.3           16.3                      nan\n",
       "  2           2  21/12/2018 13:48        21/12/2018 13:52                         3              0               1  N                                236             236               1            4.5      0.5        0.5          0                  0                      0.3            5.8                      nan\n",
       "  3           2  28/11/2018 15:52        28/11/2018 15:55                         5              0               1  N                                193             193               2            3.5      0.5        0.5          0                  0                      0.3            7.55                     nan\n",
       "  4           2  28/11/2018 15:56        28/11/2018 15:58                         5              0               2  N                                193             193               2           52        0          0.5          0                  0                      0.3           55.55                     nan"
      ]
     },
     "execution_count": 5,
     "metadata": {},
     "output_type": "execute_result"
    }
   ],
   "source": [
    "%%time\n",
    "# vaex will be the fastest only with hdf5 format\n",
    "# we are using head because it's layz operation \n",
    "vdf = vx.read_csv(DATA)\n",
    "vdf.head(5)"
   ]
  },
  {
   "cell_type": "markdown",
   "metadata": {},
   "source": [
    "## Dask"
   ]
  },
  {
   "cell_type": "code",
   "execution_count": 6,
   "metadata": {},
   "outputs": [
    {
     "name": "stdout",
     "output_type": "stream",
     "text": [
      "CPU times: user 18.8 ms, sys: 11.3 ms, total: 30.2 ms\n",
      "Wall time: 1.16 s\n"
     ]
    },
    {
     "data": {
      "text/html": [
       "<div>\n",
       "<style scoped>\n",
       "    .dataframe tbody tr th:only-of-type {\n",
       "        vertical-align: middle;\n",
       "    }\n",
       "\n",
       "    .dataframe tbody tr th {\n",
       "        vertical-align: top;\n",
       "    }\n",
       "\n",
       "    .dataframe thead th {\n",
       "        text-align: right;\n",
       "    }\n",
       "</style>\n",
       "<table border=\"1\" class=\"dataframe\">\n",
       "  <thead>\n",
       "    <tr style=\"text-align: right;\">\n",
       "      <th></th>\n",
       "      <th>VendorID</th>\n",
       "      <th>tpep_pickup_datetime</th>\n",
       "      <th>tpep_dropoff_datetime</th>\n",
       "      <th>passenger_count</th>\n",
       "      <th>trip_distance</th>\n",
       "      <th>RatecodeID</th>\n",
       "      <th>store_and_fwd_flag</th>\n",
       "      <th>PULocationID</th>\n",
       "      <th>DOLocationID</th>\n",
       "      <th>payment_type</th>\n",
       "      <th>fare_amount</th>\n",
       "      <th>extra</th>\n",
       "      <th>mta_tax</th>\n",
       "      <th>tip_amount</th>\n",
       "      <th>tolls_amount</th>\n",
       "      <th>improvement_surcharge</th>\n",
       "      <th>total_amount</th>\n",
       "      <th>congestion_surcharge</th>\n",
       "    </tr>\n",
       "  </thead>\n",
       "  <tbody>\n",
       "    <tr>\n",
       "      <th>0</th>\n",
       "      <td>1</td>\n",
       "      <td>01/01/2019 0:46</td>\n",
       "      <td>01/01/2019 0:53</td>\n",
       "      <td>1</td>\n",
       "      <td>1.5</td>\n",
       "      <td>1</td>\n",
       "      <td>N</td>\n",
       "      <td>151</td>\n",
       "      <td>239</td>\n",
       "      <td>1</td>\n",
       "      <td>7.0</td>\n",
       "      <td>0.5</td>\n",
       "      <td>0.5</td>\n",
       "      <td>1.65</td>\n",
       "      <td>0.0</td>\n",
       "      <td>0.3</td>\n",
       "      <td>9.95</td>\n",
       "      <td>NaN</td>\n",
       "    </tr>\n",
       "    <tr>\n",
       "      <th>1</th>\n",
       "      <td>1</td>\n",
       "      <td>01/01/2019 0:59</td>\n",
       "      <td>01/01/2019 1:18</td>\n",
       "      <td>1</td>\n",
       "      <td>2.6</td>\n",
       "      <td>1</td>\n",
       "      <td>N</td>\n",
       "      <td>239</td>\n",
       "      <td>246</td>\n",
       "      <td>1</td>\n",
       "      <td>14.0</td>\n",
       "      <td>0.5</td>\n",
       "      <td>0.5</td>\n",
       "      <td>1.00</td>\n",
       "      <td>0.0</td>\n",
       "      <td>0.3</td>\n",
       "      <td>16.30</td>\n",
       "      <td>NaN</td>\n",
       "    </tr>\n",
       "    <tr>\n",
       "      <th>2</th>\n",
       "      <td>2</td>\n",
       "      <td>21/12/2018 13:48</td>\n",
       "      <td>21/12/2018 13:52</td>\n",
       "      <td>3</td>\n",
       "      <td>0.0</td>\n",
       "      <td>1</td>\n",
       "      <td>N</td>\n",
       "      <td>236</td>\n",
       "      <td>236</td>\n",
       "      <td>1</td>\n",
       "      <td>4.5</td>\n",
       "      <td>0.5</td>\n",
       "      <td>0.5</td>\n",
       "      <td>0.00</td>\n",
       "      <td>0.0</td>\n",
       "      <td>0.3</td>\n",
       "      <td>5.80</td>\n",
       "      <td>NaN</td>\n",
       "    </tr>\n",
       "    <tr>\n",
       "      <th>3</th>\n",
       "      <td>2</td>\n",
       "      <td>28/11/2018 15:52</td>\n",
       "      <td>28/11/2018 15:55</td>\n",
       "      <td>5</td>\n",
       "      <td>0.0</td>\n",
       "      <td>1</td>\n",
       "      <td>N</td>\n",
       "      <td>193</td>\n",
       "      <td>193</td>\n",
       "      <td>2</td>\n",
       "      <td>3.5</td>\n",
       "      <td>0.5</td>\n",
       "      <td>0.5</td>\n",
       "      <td>0.00</td>\n",
       "      <td>0.0</td>\n",
       "      <td>0.3</td>\n",
       "      <td>7.55</td>\n",
       "      <td>NaN</td>\n",
       "    </tr>\n",
       "    <tr>\n",
       "      <th>4</th>\n",
       "      <td>2</td>\n",
       "      <td>28/11/2018 15:56</td>\n",
       "      <td>28/11/2018 15:58</td>\n",
       "      <td>5</td>\n",
       "      <td>0.0</td>\n",
       "      <td>2</td>\n",
       "      <td>N</td>\n",
       "      <td>193</td>\n",
       "      <td>193</td>\n",
       "      <td>2</td>\n",
       "      <td>52.0</td>\n",
       "      <td>0.0</td>\n",
       "      <td>0.5</td>\n",
       "      <td>0.00</td>\n",
       "      <td>0.0</td>\n",
       "      <td>0.3</td>\n",
       "      <td>55.55</td>\n",
       "      <td>NaN</td>\n",
       "    </tr>\n",
       "  </tbody>\n",
       "</table>\n",
       "</div>"
      ],
      "text/plain": [
       "   VendorID tpep_pickup_datetime tpep_dropoff_datetime  passenger_count  \\\n",
       "0         1      01/01/2019 0:46       01/01/2019 0:53                1   \n",
       "1         1      01/01/2019 0:59       01/01/2019 1:18                1   \n",
       "2         2     21/12/2018 13:48      21/12/2018 13:52                3   \n",
       "3         2     28/11/2018 15:52      28/11/2018 15:55                5   \n",
       "4         2     28/11/2018 15:56      28/11/2018 15:58                5   \n",
       "\n",
       "   trip_distance  RatecodeID store_and_fwd_flag  PULocationID  DOLocationID  \\\n",
       "0            1.5           1                  N           151           239   \n",
       "1            2.6           1                  N           239           246   \n",
       "2            0.0           1                  N           236           236   \n",
       "3            0.0           1                  N           193           193   \n",
       "4            0.0           2                  N           193           193   \n",
       "\n",
       "   payment_type  fare_amount  extra  mta_tax  tip_amount  tolls_amount  \\\n",
       "0             1          7.0    0.5      0.5        1.65           0.0   \n",
       "1             1         14.0    0.5      0.5        1.00           0.0   \n",
       "2             1          4.5    0.5      0.5        0.00           0.0   \n",
       "3             2          3.5    0.5      0.5        0.00           0.0   \n",
       "4             2         52.0    0.0      0.5        0.00           0.0   \n",
       "\n",
       "   improvement_surcharge  total_amount  congestion_surcharge  \n",
       "0                    0.3          9.95                   NaN  \n",
       "1                    0.3         16.30                   NaN  \n",
       "2                    0.3          5.80                   NaN  \n",
       "3                    0.3          7.55                   NaN  \n",
       "4                    0.3         55.55                   NaN  "
      ]
     },
     "execution_count": 6,
     "metadata": {},
     "output_type": "execute_result"
    }
   ],
   "source": [
    "%%time\n",
    "# we are using head because it's layz operation\n",
    "ddf = dd.read_csv(DATA)\n",
    "ddf.head(5)"
   ]
  },
  {
   "cell_type": "markdown",
   "metadata": {},
   "source": [
    "## Spark"
   ]
  },
  {
   "cell_type": "code",
   "execution_count": 7,
   "metadata": {},
   "outputs": [
    {
     "name": "stdout",
     "output_type": "stream",
     "text": [
      "+--------+--------------------+---------------------+---------------+-------------+----------+------------------+------------+------------+------------+-----------+-----+-------+----------+------------+---------------------+------------+--------------------+\n",
      "|VendorID|tpep_pickup_datetime|tpep_dropoff_datetime|passenger_count|trip_distance|RatecodeID|store_and_fwd_flag|PULocationID|DOLocationID|payment_type|fare_amount|extra|mta_tax|tip_amount|tolls_amount|improvement_surcharge|total_amount|congestion_surcharge|\n",
      "+--------+--------------------+---------------------+---------------+-------------+----------+------------------+------------+------------+------------+-----------+-----+-------+----------+------------+---------------------+------------+--------------------+\n",
      "|       1|     01/01/2019 0:46|      01/01/2019 0:53|              1|          1.5|         1|                 N|         151|         239|           1|        7.0|  0.5|    0.5|      1.65|         0.0|                  0.3|        9.95|                null|\n",
      "|       1|     01/01/2019 0:59|      01/01/2019 1:18|              1|          2.6|         1|                 N|         239|         246|           1|       14.0|  0.5|    0.5|       1.0|         0.0|                  0.3|        16.3|                null|\n",
      "|       2|    21/12/2018 13:48|     21/12/2018 13:52|              3|          0.0|         1|                 N|         236|         236|           1|        4.5|  0.5|    0.5|       0.0|         0.0|                  0.3|         5.8|                null|\n",
      "|       2|    28/11/2018 15:52|     28/11/2018 15:55|              5|          0.0|         1|                 N|         193|         193|           2|        3.5|  0.5|    0.5|       0.0|         0.0|                  0.3|        7.55|                null|\n",
      "|       2|    28/11/2018 15:56|     28/11/2018 15:58|              5|          0.0|         2|                 N|         193|         193|           2|       52.0|  0.0|    0.5|       0.0|         0.0|                  0.3|       55.55|                null|\n",
      "+--------+--------------------+---------------------+---------------+-------------+----------+------------------+------------+------------+------------+-----------+-----+-------+----------+------------+---------------------+------------+--------------------+\n",
      "only showing top 5 rows\n",
      "\n",
      "CPU times: user 11.4 ms, sys: 2.65 ms, total: 14 ms\n",
      "Wall time: 12.3 s\n"
     ]
    }
   ],
   "source": [
    "%%time\n",
    "# we are using show because it's layz operation\n",
    "sdf = spark.read.csv(DATAv, sep=\",\", inferSchema=True, header=True)\n",
    "sdf.show(5)"
   ]
  },
  {
   "cell_type": "markdown",
   "metadata": {},
   "source": [
    "# Group by VendorID and Count "
   ]
  },
  {
   "cell_type": "markdown",
   "metadata": {},
   "source": [
    "# Vaex"
   ]
  },
  {
   "cell_type": "code",
   "execution_count": 8,
   "metadata": {},
   "outputs": [
    {
     "name": "stdout",
     "output_type": "stream",
     "text": [
      "CPU times: user 17.3 ms, sys: 2.22 ms, total: 19.5 ms\n",
      "Wall time: 45.7 ms\n"
     ]
    },
    {
     "data": {
      "text/html": [
       "<table>\n",
       "<thead>\n",
       "<tr><th>#                            </th><th style=\"text-align: right;\">  VendorID</th><th style=\"text-align: right;\">  count</th></tr>\n",
       "</thead>\n",
       "<tbody>\n",
       "<tr><td><i style='opacity: 0.6'>0</i></td><td style=\"text-align: right;\">         1</td><td style=\"text-align: right;\"> 378304</td></tr>\n",
       "<tr><td><i style='opacity: 0.6'>1</i></td><td style=\"text-align: right;\">         2</td><td style=\"text-align: right;\"> 610022</td></tr>\n",
       "<tr><td><i style='opacity: 0.6'>2</i></td><td style=\"text-align: right;\">         4</td><td style=\"text-align: right;\">  11673</td></tr>\n",
       "</tbody>\n",
       "</table>"
      ],
      "text/plain": [
       "  #    VendorID    count\n",
       "  0           1   378304\n",
       "  1           2   610022\n",
       "  2           4    11673"
      ]
     },
     "execution_count": 8,
     "metadata": {},
     "output_type": "execute_result"
    }
   ],
   "source": [
    "%%time\n",
    "vdf.groupby([\"VendorID\"], agg='count')"
   ]
  },
  {
   "cell_type": "markdown",
   "metadata": {},
   "source": [
    "# Dask"
   ]
  },
  {
   "cell_type": "code",
   "execution_count": 9,
   "metadata": {},
   "outputs": [
    {
     "name": "stdout",
     "output_type": "stream",
     "text": [
      "CPU times: user 13.8 ms, sys: 3.17 ms, total: 17 ms\n",
      "Wall time: 1.12 s\n"
     ]
    },
    {
     "data": {
      "text/plain": [
       "VendorID\n",
       "1    378304\n",
       "2    610022\n",
       "4     11673\n",
       "Name: total_amount, dtype: int64"
      ]
     },
     "execution_count": 9,
     "metadata": {},
     "output_type": "execute_result"
    }
   ],
   "source": [
    "%%time\n",
    "ddf.groupby([\"VendorID\"])['total_amount'].count().compute()"
   ]
  },
  {
   "cell_type": "markdown",
   "metadata": {},
   "source": [
    "# Spark"
   ]
  },
  {
   "cell_type": "code",
   "execution_count": 11,
   "metadata": {},
   "outputs": [
    {
     "name": "stdout",
     "output_type": "stream",
     "text": [
      "+--------+-------------------+\n",
      "|VendorID|count(total_amount)|\n",
      "+--------+-------------------+\n",
      "|       1|             378304|\n",
      "|       4|              11673|\n",
      "|       2|             610022|\n",
      "+--------+-------------------+\n",
      "\n",
      "CPU times: user 1.9 ms, sys: 2.22 ms, total: 4.12 ms\n",
      "Wall time: 1.72 s\n"
     ]
    }
   ],
   "source": [
    "%%time\n",
    "sdf.groupBy(\"VendorID\").agg({'total_amount': 'count'}).show()"
   ]
  }
 ],
 "metadata": {
  "kernelspec": {
   "display_name": "Python [conda env:root] *",
   "language": "python",
   "name": "conda-root-py"
  },
  "language_info": {
   "codemirror_mode": {
    "name": "ipython",
    "version": 3
   },
   "file_extension": ".py",
   "mimetype": "text/x-python",
   "name": "python",
   "nbconvert_exporter": "python",
   "pygments_lexer": "ipython3",
   "version": "3.7.6"
  }
 },
 "nbformat": 4,
 "nbformat_minor": 4
}
