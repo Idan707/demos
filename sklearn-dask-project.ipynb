{
 "cells": [
  {
   "cell_type": "markdown",
   "metadata": {},
   "source": [
    "# Demonstrate Kubeflow Pipelines with Dask and MLRun\n",
    "  --------------------------------------------------------------------\n"
   ]
  },
  {
   "cell_type": "markdown",
   "metadata": {},
   "source": [
    "## Create a project to host our functions, jobs and artifacts\n",
    "\n",
    "Projects are used to package multiple functions, workflows, and artifacts. We usually store project code and definitions in a Git archive.\n",
    "\n",
    "The following code creates a new project in a local dir and initialize git tracking on that"
   ]
  },
  {
   "cell_type": "code",
   "execution_count": 1,
   "metadata": {},
   "outputs": [
    {
     "name": "stdout",
     "output_type": "stream",
     "text": [
      "> 2020-11-23 12:59:28,818 [warning] warning!, server (0.5.4-rc1) and client (0.5.4) ver dont match\n"
     ]
    }
   ],
   "source": [
    "import os\n",
    "import mlrun\n",
    "import warnings\n",
    "warnings.filterwarnings(\"ignore\")\n",
    "\n",
    "# set project name and dir\n",
    "project_name = 'sk-project-dask'\n",
    "project_dir = './project'\n",
    "\n",
    "# specify artifacts target location\n",
    "artifact_path = mlrun.set_environment(api_path = mlrun.mlconf.dbpath or 'http://mlrun-api:8080',\n",
    "                                      artifact_path = os.path.abspath('./'),\n",
    "                                      project = project_name,)\n",
    "\n",
    "# set project\n",
    "sk_dask_proj = mlrun.new_project(project_name, project_dir, init_git=True)"
   ]
  },
  {
   "cell_type": "markdown",
   "metadata": {},
   "source": [
    "## Init Dask Cluster"
   ]
  },
  {
   "cell_type": "code",
   "execution_count": 2,
   "metadata": {},
   "outputs": [
    {
     "name": "stdout",
     "output_type": "stream",
     "text": [
      "> 2020-11-23 12:59:31,056 [info] using in-cluster config.\n"
     ]
    }
   ],
   "source": [
    "import mlrun\n",
    "# set up function from local file\n",
    "dsf = mlrun.new_function(name=\"mydask\", kind=\"dask\", image=\"mlrun/ml-models\")\n",
    "\n",
    "# set up function specs for dask\n",
    "dsf.spec.remote = True\n",
    "dsf.spec.replicas = 5\n",
    "dsf.spec.service_type = 'NodePort'\n",
    "dsf.with_limits(mem=\"6G\")\n",
    "dsf.spec.nthreads = 5"
   ]
  },
  {
   "cell_type": "code",
   "execution_count": 3,
   "metadata": {},
   "outputs": [
    {
     "name": "stdout",
     "output_type": "stream",
     "text": [
      "> 2020-11-23 12:59:31,862 [warning] warning!, server (0.5.4-rc1) and client (0.5.4) ver dont match\n"
     ]
    },
    {
     "data": {
      "text/plain": [
       "'060deda27db0d90a1ca0c0434ca4cad278b14877'"
      ]
     },
     "execution_count": 3,
     "metadata": {},
     "output_type": "execute_result"
    }
   ],
   "source": [
    "dsf.save()"
   ]
  },
  {
   "cell_type": "code",
   "execution_count": 4,
   "metadata": {},
   "outputs": [
    {
     "data": {
      "text/plain": [
       "<mlrun.runtimes.daskjob.DaskCluster at 0x7f6ed3b96d50>"
      ]
     },
     "execution_count": 4,
     "metadata": {},
     "output_type": "execute_result"
    }
   ],
   "source": [
    "dsf.apply(mlrun.mount_v3io())"
   ]
  },
  {
   "cell_type": "code",
   "execution_count": 6,
   "metadata": {},
   "outputs": [
    {
     "name": "stdout",
     "output_type": "stream",
     "text": [
      "> 2020-11-23 13:03:30,184 [info] trying dask client at: tcp://mlrun-mydask-ce9d12ee-0.default-tenant:8786\n",
      "> 2020-11-23 13:03:30,192 [info] using remote dask scheduler (mlrun-mydask-ce9d12ee-0) at: tcp://mlrun-mydask-ce9d12ee-0.default-tenant:8786\n"
     ]
    },
    {
     "data": {
      "text/html": [
       "<a href=\"http://default-tenant.app.dsteam.iguazio-cd1.com:30610/status\" target=\"_blank\" >dashboard link: default-tenant.app.dsteam.iguazio-cd1.com:30610</a>"
      ],
      "text/plain": [
       "<IPython.core.display.HTML object>"
      ]
     },
     "metadata": {},
     "output_type": "display_data"
    },
    {
     "data": {
      "text/html": [
       "<table style=\"border: 2px solid white;\">\n",
       "<tr>\n",
       "<td style=\"vertical-align: top; border: 0px solid white\">\n",
       "<h3 style=\"text-align: left;\">Client</h3>\n",
       "<ul style=\"text-align: left; list-style: none; margin: 0; padding: 0;\">\n",
       "  <li><b>Scheduler: </b>tcp://mlrun-mydask-ce9d12ee-0.default-tenant:8786</li>\n",
       "  <li><b>Dashboard: </b><a href='http://mlrun-mydask-ce9d12ee-0.default-tenant:8787/status' target='_blank'>http://mlrun-mydask-ce9d12ee-0.default-tenant:8787/status</a></li>\n",
       "</ul>\n",
       "</td>\n",
       "<td style=\"vertical-align: top; border: 0px solid white\">\n",
       "<h3 style=\"text-align: left;\">Cluster</h3>\n",
       "<ul style=\"text-align: left; list-style:none; margin: 0; padding: 0;\">\n",
       "  <li><b>Workers: </b>5</li>\n",
       "  <li><b>Cores: </b>25</li>\n",
       "  <li><b>Memory: </b>30.00 GB</li>\n",
       "</ul>\n",
       "</td>\n",
       "</tr>\n",
       "</table>"
      ],
      "text/plain": [
       "<Client: 'tcp://10.200.0.35:8786' processes=5 threads=25, memory=30.00 GB>"
      ]
     },
     "execution_count": 6,
     "metadata": {},
     "output_type": "execute_result"
    }
   ],
   "source": [
    "dsf.client"
   ]
  },
  {
   "cell_type": "markdown",
   "metadata": {},
   "source": [
    "## Load and run a functions\n",
    "\n",
    "load the function object from .py .yaml file or function hub (marketplace)<br>"
   ]
  },
  {
   "cell_type": "markdown",
   "metadata": {},
   "source": [
    "### Function #1"
   ]
  },
  {
   "cell_type": "code",
   "execution_count": 7,
   "metadata": {},
   "outputs": [],
   "source": [
    "# load function from local file\n",
    "dsf = sk_dask_proj.set_function('/User/demos/demos/project/sklearn-classifier-dask.py', \n",
    "                                name='dask_classifier', \n",
    "                                kind=\"job\",\n",
    "                                image=\"mlrun/ml-models\")"
   ]
  },
  {
   "cell_type": "markdown",
   "metadata": {},
   "source": [
    "### Function #2"
   ]
  },
  {
   "cell_type": "code",
   "execution_count": 8,
   "metadata": {},
   "outputs": [],
   "source": [
    "describejob = sk_dask_proj.set_function(\"/User/demos/demos/project/describe.py\", \n",
    "                                          name='describe', \n",
    "                                          kind=\"job\", \n",
    "                                          image=\"mlrun/ml-models\")"
   ]
  },
  {
   "cell_type": "markdown",
   "metadata": {},
   "source": [
    "## Create a Fully Automated ML Pipeline\n",
    "\n",
    "#### Add more functions to our project to be used in our pipeline (from the functions hub/marketplace)\n",
    "\n",
    "Describe data, train and eval model with dask"
   ]
  },
  {
   "cell_type": "markdown",
   "metadata": {},
   "source": [
    "#### Define and save a pipeline \n",
    "\n",
    "The following workflow definition will be written into a file, it describes a Kubeflow execution graph (DAG)<br>\n",
    "and how functions and data are connected  to form an end to end pipeline. \n",
    "\n",
    "* Ingest data\n",
    "* Describe data\n",
    "* Train, test and evaluate with dask\n",
    "\n",
    "Check the code below to see how functions objects are initialized and used (by name) inside the workflow.<br>\n",
    "The `workflow.py` file has two parts, initialize the function objects and define pipeline dsl (connect the function inputs and outputs).\n",
    "\n",
    "> Note: the pipeline can include CI steps like building container images and deploying models as illustrated  in the following example.\n"
   ]
  },
  {
   "cell_type": "code",
   "execution_count": 9,
   "metadata": {},
   "outputs": [
    {
     "name": "stdout",
     "output_type": "stream",
     "text": [
      "Overwriting project/workflow.py\n"
     ]
    }
   ],
   "source": [
    "%%writefile project/workflow.py\n",
    "from kfp import dsl\n",
    "from mlrun import mount_v3io\n",
    "\n",
    "# params\n",
    "funcs       = {}\n",
    "LABELS      = \"VendorID\"\n",
    "DROP        = 'congestion_surcharge'\n",
    "#DATA_URL    = \"/User/iris.csv\"\n",
    "DATA_URL    = \"/User/yellow_tripdata.csv\"\n",
    "DASK_CLIENT = \"tcp://mlrun-mydask-ce9d12ee-0.default-tenant:8786\"\n",
    "\n",
    "# init functions is used to configure function resources and local settings\n",
    "def init_functions(functions: dict, project=None, secrets=None):\n",
    "    for f in functions.values():\n",
    "        f.apply(mount_v3io())\n",
    "        pass\n",
    "     \n",
    "@dsl.pipeline(\n",
    "    name=\"Demo training pipeline\",\n",
    "    description=\"Shows how to use mlrun\"\n",
    ")\n",
    "def kfpipeline():\n",
    "    \n",
    "    # describe data\n",
    "    describe = funcs['describe'].as_step(\n",
    "        handler=\"describe\",\n",
    "        params={\"dask_address\"  : DASK_CLIENT},\n",
    "        inputs={\"dataset\"       : DATA_URL}\n",
    "    )\n",
    "    \n",
    "    # get data, train, test and evaluate \n",
    "    train = funcs['dask_classifier'].as_step(\n",
    "        name=\"train-skrf\",\n",
    "        handler=\"train_model\",\n",
    "        params={\"label_column\"    : LABELS,\n",
    "                \"dask_address\"    : DASK_CLIENT,\n",
    "                \"test_size\"       : 0.10,\n",
    "                \"model_pkg_class\" : \"sklearn.ensemble.RandomForestClassifier\",\n",
    "                \"drop_cols\"       : DROP},\n",
    "        inputs={\"dataset\"         : DATA_URL},\n",
    "        outputs=['model', 'test_set']\n",
    "    )\n",
    "    \n",
    "    train.after(describe)"
   ]
  },
  {
   "cell_type": "code",
   "execution_count": 10,
   "metadata": {},
   "outputs": [],
   "source": [
    "# register the workflow file as \"main\", embed the workflow code into the project YAML\n",
    "sk_dask_proj.set_workflow('main', 'workflow.py', embed=True)"
   ]
  },
  {
   "cell_type": "markdown",
   "metadata": {},
   "source": [
    "Save the project definitions to a file (project.yaml), it is recommended to commit all changes to a Git repo."
   ]
  },
  {
   "cell_type": "code",
   "execution_count": 11,
   "metadata": {},
   "outputs": [],
   "source": [
    "sk_dask_proj.save()"
   ]
  },
  {
   "cell_type": "markdown",
   "metadata": {},
   "source": [
    "<a id='run-pipeline'></a>\n",
    "## Run a pipeline workflow\n",
    "use the `run` method to execute a workflow, you can provide alternative arguments and specify the default target for workflow artifacts.<br>\n",
    "The workflow ID is returned and can be used to track the progress or you can use the hyperlinks\n",
    "\n",
    "> Note: The same command can be issued through CLI commands:<br>\n",
    "    `mlrun project my-proj/ -r main -p \"v3io:///users/admin/mlrun/kfp/{{workflow.uid}}/\"`\n",
    "\n",
    "The `dirty` flag allow us to run a project with uncommited changes (when the notebook is in the same git dir it will always be dirty)<br>\n",
    "The `watch` flag will wait for the pipeline to complete and print results"
   ]
  },
  {
   "cell_type": "code",
   "execution_count": 12,
   "metadata": {},
   "outputs": [
    {
     "name": "stdout",
     "output_type": "stream",
     "text": [
      "> 2020-11-23 13:03:41,345 [warning] warning!, server (0.5.4-rc1) and client (0.5.4) ver dont match\n",
      "> 2020-11-23 13:03:41,429 [warning] warning!, server (0.5.4-rc1) and client (0.5.4) ver dont match\n"
     ]
    },
    {
     "data": {
      "text/html": [
       "Experiment link <a href=\"https://dashboard.default-tenant.app.dsteam.iguazio-cd1.com/pipelines/#/experiments/details/f7fd182e-113f-4ad5-8123-63ecd237b9eb\" target=\"_blank\" >here</a>"
      ],
      "text/plain": [
       "<IPython.core.display.HTML object>"
      ]
     },
     "metadata": {},
     "output_type": "display_data"
    },
    {
     "data": {
      "text/html": [
       "Run link <a href=\"https://dashboard.default-tenant.app.dsteam.iguazio-cd1.com/pipelines/#/runs/details/09454d62-623a-46f7-a0b5-0f0728f1fa2a\" target=\"_blank\" >here</a>"
      ],
      "text/plain": [
       "<IPython.core.display.HTML object>"
      ]
     },
     "metadata": {},
     "output_type": "display_data"
    },
    {
     "name": "stdout",
     "output_type": "stream",
     "text": [
      "> 2020-11-23 13:03:41,610 [info] Pipeline run id=09454d62-623a-46f7-a0b5-0f0728f1fa2a, check UI or DB for progress\n",
      "> 2020-11-23 13:03:41,610 [info] waiting for pipeline run completion\n",
      "> 2020-11-23 13:07:52,618 [warning] warning!, server (0.5.4-rc1) and client (0.5.4) ver dont match\n"
     ]
    },
    {
     "data": {
      "text/html": [
       "<h2>Run Results</h2>Workflow 09454d62-623a-46f7-a0b5-0f0728f1fa2a finished, status=Succeeded<br>click the hyper links below to see detailed results<br><table border=\"1\" class=\"dataframe\">\n",
       "  <thead>\n",
       "    <tr style=\"text-align: right;\">\n",
       "      <th>uid</th>\n",
       "      <th>start</th>\n",
       "      <th>state</th>\n",
       "      <th>name</th>\n",
       "      <th>results</th>\n",
       "      <th>artifacts</th>\n",
       "    </tr>\n",
       "  </thead>\n",
       "  <tbody>\n",
       "    <tr>\n",
       "      <td><div title=\"d6858cc939024cb28c9693000d88b337\"><a href=\"https://mlrun-ui.default-tenant.app.dsteam.iguazio-cd1.com/projects/sk-project-dask/jobs/d6858cc939024cb28c9693000d88b337/info\" target=\"_blank\" >...0d88b337</a></div></td>\n",
       "      <td>Nov 23 13:04:07</td>\n",
       "      <td>completed</td>\n",
       "      <td>train-skrf</td>\n",
       "      <td><div class=\"dictlist\">micro=0.9541915853120504</div><div class=\"dictlist\">macro=0.8253826095402947</div><div class=\"dictlist\">precision-2=0.8270983635403836</div><div class=\"dictlist\">precision-1=0.8389381392490554</div><div class=\"dictlist\">precision-4=0.06947890818858561</div><div class=\"dictlist\">recall-2=0.7464190812945299</div><div class=\"dictlist\">recall-1=0.9035754541403445</div><div class=\"dictlist\">recall-4=0.009504412763068567</div><div class=\"dictlist\">f1-2=0.7846903797355651</div><div class=\"dictlist\">f1-1=0.870057958851424</div><div class=\"dictlist\">f1-4=0.016721409375933114</div></td>\n",
       "      <td><div class=\"artifact\" onclick=\"expandPanel(this)\" paneName=\"result\" title=\"/files/demos/demos/pipe/09454d62-623a-46f7-a0b5-0f0728f1fa2a/ROCAUC.html\">ROCAUC</div><div class=\"artifact\" onclick=\"expandPanel(this)\" paneName=\"result\" title=\"/files/demos/demos/pipe/09454d62-623a-46f7-a0b5-0f0728f1fa2a/ClassificationReport.html\">ClassificationReport</div><div class=\"artifact\" onclick=\"expandPanel(this)\" paneName=\"result\" title=\"/files/demos/demos/pipe/09454d62-623a-46f7-a0b5-0f0728f1fa2a/ConfusionMatrix.html\">ConfusionMatrix</div><div class=\"artifact\" onclick=\"expandPanel(this)\" paneName=\"result\" title=\"/files/demos/demos/pipe/09454d62-623a-46f7-a0b5-0f0728f1fa2a/FeatureImportances.html\">FeatureImportances</div><div title=\"/User/demos/demos/pipe/09454d62-623a-46f7-a0b5-0f0728f1fa2a/models\">model</div><div title=\"/User/demos/demos/pipe/09454d62-623a-46f7-a0b5-0f0728f1fa2a/models/standard_scaler\">standard_scaler</div><div title=\"/User/demos/demos/pipe/09454d62-623a-46f7-a0b5-0f0728f1fa2a/models/label_encoder\">label_encoder</div><div class=\"artifact\" onclick=\"expandPanel(this)\" paneName=\"result\" title=\"/files/demos/demos/pipe/09454d62-623a-46f7-a0b5-0f0728f1fa2a/data/test_set.csv\">test_set</div></td>\n",
       "    </tr>\n",
       "    <tr>\n",
       "      <td><div title=\"e3d0b46a35a645038d116526338fb234\"><a href=\"https://mlrun-ui.default-tenant.app.dsteam.iguazio-cd1.com/projects/sk-project-dask/jobs/e3d0b46a35a645038d116526338fb234/info\" target=\"_blank\" >...338fb234</a></div></td>\n",
       "      <td>Nov 23 13:03:49</td>\n",
       "      <td>completed</td>\n",
       "      <td>describe-describe</td>\n",
       "      <td></td>\n",
       "      <td><div class=\"artifact\" onclick=\"expandPanel(this)\" paneName=\"result\" title=\"/files/demos/demos/pipe/09454d62-623a-46f7-a0b5-0f0728f1fa2a/describe.csv\">describe</div></td>\n",
       "    </tr>\n",
       "  </tbody>\n",
       "</table>"
      ],
      "text/plain": [
       "<IPython.core.display.HTML object>"
      ]
     },
     "metadata": {},
     "output_type": "display_data"
    }
   ],
   "source": [
    "artifact_path = os.path.abspath('./pipe/{{workflow.uid}}')\n",
    "run_id = sk_dask_proj.run(\n",
    "    'main',\n",
    "    arguments={}, \n",
    "    artifact_path=artifact_path, \n",
    "    dirty=False, watch=True)"
   ]
  },
  {
   "cell_type": "markdown",
   "metadata": {},
   "source": [
    "**[back to top](#top)**"
   ]
  }
 ],
 "metadata": {
  "kernelspec": {
   "display_name": "Python 3",
   "language": "python",
   "name": "python3"
  },
  "language_info": {
   "codemirror_mode": {
    "name": "ipython",
    "version": 3
   },
   "file_extension": ".py",
   "mimetype": "text/x-python",
   "name": "python",
   "nbconvert_exporter": "python",
   "pygments_lexer": "ipython3",
   "version": "3.7.6"
  }
 },
 "nbformat": 4,
 "nbformat_minor": 4
}
