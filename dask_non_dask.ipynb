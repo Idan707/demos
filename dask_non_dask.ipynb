{
 "cells": [
  {
   "cell_type": "markdown",
   "metadata": {},
   "source": [
    "# Generate Random Text Files "
   ]
  },
  {
   "cell_type": "code",
   "execution_count": 2,
   "metadata": {},
   "outputs": [],
   "source": [
    "import random\n",
    "import string\n",
    "import os\n",
    "\n",
    "from collections import Counter\n",
    "from dask.distributed import Client\n",
    "\n",
    "import warnings \n",
    "warnings.filterwarnings('ignore')"
   ]
  },
  {
   "cell_type": "code",
   "execution_count": 49,
   "metadata": {},
   "outputs": [],
   "source": [
    "def generate_big_random_letters(filename, size):\n",
    "    \"\"\"\n",
    "    generate big random letters/alphabets to a file\n",
    "    :param filename: the filename\n",
    "    :param size: the size in bytes\n",
    "    :return: void\n",
    "    \"\"\"\n",
    "    chars = ''.join([random.choice(string.ascii_letters) for i in range(size)]) #1\n",
    "\n",
    "    with open(filename, 'w') as f:\n",
    "        f.write(chars)\n",
    "    pass"
   ]
  },
  {
   "cell_type": "code",
   "execution_count": 50,
   "metadata": {},
   "outputs": [],
   "source": [
    "PATH = '/User/demos/demos/random_files'\n",
    "SIZE = 10000000\n",
    "\n",
    "for i in range(100):\n",
    "    generate_big_random_letters(filename = PATH + '/file_' + str(i) + '.txt', \n",
    "                                size = SIZE)"
   ]
  },
  {
   "cell_type": "markdown",
   "metadata": {},
   "source": [
    "# Set Function for Benchmark"
   ]
  },
  {
   "cell_type": "code",
   "execution_count": 88,
   "metadata": {},
   "outputs": [],
   "source": [
    "def count_letters(path):\n",
    "    \"\"\"\n",
    "    count letters in text file\n",
    "    :param path:  path to file\n",
    "    \"\"\"\n",
    "    # open file in read mode\n",
    "    file = open(path, \"r\")\n",
    "\n",
    "    # read the content of file\n",
    "    data = file.read()\n",
    "\n",
    "    # sort file\n",
    "    sorted_file = sorted(data)\n",
    "    \n",
    "    # count file\n",
    "    number_of_characters = len(sorted_file)\n",
    "    \n",
    "    return number_of_characters"
   ]
  },
  {
   "cell_type": "code",
   "execution_count": 52,
   "metadata": {},
   "outputs": [],
   "source": [
    "def process_files(path):\n",
    "    \"\"\"\n",
    "    list file and count letters\n",
    "    :param path: path to folder with files\n",
    "    \"\"\"\n",
    "    num_list = []\n",
    "    files = os.listdir(path)\n",
    "    \n",
    "    for file in files:\n",
    "        cnt = count_letters(path)\n",
    "        num_list.append(cnt)\n",
    "        \n",
    "    return num_list"
   ]
  },
  {
   "cell_type": "markdown",
   "metadata": {},
   "source": [
    "# Sort & Count Number of Letters with Python"
   ]
  },
  {
   "cell_type": "code",
   "execution_count": 55,
   "metadata": {},
   "outputs": [
    {
     "name": "stdout",
     "output_type": "stream",
     "text": [
      "CPU times: user 2min 18s, sys: 7.42 s, total: 2min 26s\n",
      "Wall time: 2min 28s\n"
     ]
    },
    {
     "data": {
      "text/plain": [
       "[10000000,\n",
       " 10000000,\n",
       " 10000000,\n",
       " 10000000,\n",
       " 10000000,\n",
       " 10000000,\n",
       " 10000000,\n",
       " 10000000,\n",
       " 10000000,\n",
       " 10000000,\n",
       " 10000000,\n",
       " 10000000,\n",
       " 10000000,\n",
       " 10000000,\n",
       " 10000000,\n",
       " 10000000,\n",
       " 10000000,\n",
       " 10000000,\n",
       " 10000000,\n",
       " 10000000,\n",
       " 10000000,\n",
       " 10000000,\n",
       " 10000000,\n",
       " 10000000,\n",
       " 10000000,\n",
       " 10000000,\n",
       " 10000000,\n",
       " 10000000,\n",
       " 10000000,\n",
       " 10000000,\n",
       " 10000000,\n",
       " 10000000,\n",
       " 10000000,\n",
       " 10000000,\n",
       " 10000000,\n",
       " 10000000,\n",
       " 10000000,\n",
       " 10000000,\n",
       " 10000000,\n",
       " 10000000,\n",
       " 10000000,\n",
       " 10000000,\n",
       " 10000000,\n",
       " 10000000,\n",
       " 10000000,\n",
       " 10000000,\n",
       " 10000000,\n",
       " 10000000,\n",
       " 10000000,\n",
       " 10000000,\n",
       " 10000000,\n",
       " 10000000,\n",
       " 10000000,\n",
       " 10000000,\n",
       " 10000000,\n",
       " 10000000,\n",
       " 10000000,\n",
       " 10000000,\n",
       " 10000000,\n",
       " 10000000,\n",
       " 10000000,\n",
       " 10000000,\n",
       " 10000000,\n",
       " 10000000,\n",
       " 10000000,\n",
       " 10000000,\n",
       " 10000000,\n",
       " 10000000,\n",
       " 10000000,\n",
       " 10000000,\n",
       " 10000000,\n",
       " 10000000,\n",
       " 10000000,\n",
       " 10000000,\n",
       " 10000000,\n",
       " 10000000,\n",
       " 10000000,\n",
       " 10000000,\n",
       " 10000000,\n",
       " 10000000,\n",
       " 10000000,\n",
       " 10000000,\n",
       " 10000000,\n",
       " 10000000,\n",
       " 10000000,\n",
       " 10000000,\n",
       " 10000000,\n",
       " 10000000,\n",
       " 10000000,\n",
       " 10000000,\n",
       " 10000000,\n",
       " 10000000,\n",
       " 10000000,\n",
       " 10000000,\n",
       " 10000000,\n",
       " 10000000,\n",
       " 10000000,\n",
       " 10000000,\n",
       " 10000000,\n",
       " 10000000]"
      ]
     },
     "execution_count": 55,
     "metadata": {},
     "output_type": "execute_result"
    }
   ],
   "source": [
    "%%time\n",
    "PATH = '/User/demos/demos/random_files/'\n",
    "process_files(PATH)"
   ]
  },
  {
   "cell_type": "markdown",
   "metadata": {},
   "source": [
    "# Sort & Count Number of Letters with Dask"
   ]
  },
  {
   "cell_type": "code",
   "execution_count": 78,
   "metadata": {},
   "outputs": [],
   "source": [
    "# get the dask client address \n",
    "client = Client(\"tcp://mlrun-mydask-3546f1d6-2.default-tenant:8786\")"
   ]
  },
  {
   "cell_type": "code",
   "execution_count": 84,
   "metadata": {},
   "outputs": [],
   "source": [
    "# list all files in folder\n",
    "files = [PATH + x for x in os.listdir(PATH)]"
   ]
  },
  {
   "cell_type": "code",
   "execution_count": 89,
   "metadata": {},
   "outputs": [
    {
     "name": "stdout",
     "output_type": "stream",
     "text": [
      "CPU times: user 7.1 ms, sys: 2.01 ms, total: 9.12 ms\n",
      "Wall time: 7.43 ms\n"
     ]
    }
   ],
   "source": [
    "%%time\n",
    "# run the count_letter function on a list of files while using multiple workers\n",
    "a = client.map(count_letters, files)"
   ]
  },
  {
   "cell_type": "code",
   "execution_count": 90,
   "metadata": {},
   "outputs": [
    {
     "name": "stdout",
     "output_type": "stream",
     "text": [
      "CPU times: user 57.2 ms, sys: 5.85 ms, total: 63.1 ms\n",
      "Wall time: 28.4 s\n"
     ]
    },
    {
     "data": {
      "text/plain": [
       "[10000000,\n",
       " 10000000,\n",
       " 10000000,\n",
       " 10000000,\n",
       " 10000000,\n",
       " 10000000,\n",
       " 10000000,\n",
       " 10000000,\n",
       " 10000000,\n",
       " 10000000,\n",
       " 10000000,\n",
       " 10000000,\n",
       " 10000000,\n",
       " 10000000,\n",
       " 10000000,\n",
       " 10000000,\n",
       " 10000000,\n",
       " 10000000,\n",
       " 10000000,\n",
       " 10000000,\n",
       " 10000000,\n",
       " 10000000,\n",
       " 10000000,\n",
       " 10000000,\n",
       " 10000000,\n",
       " 10000000,\n",
       " 10000000,\n",
       " 10000000,\n",
       " 10000000,\n",
       " 10000000,\n",
       " 10000000,\n",
       " 10000000,\n",
       " 10000000,\n",
       " 10000000,\n",
       " 10000000,\n",
       " 10000000,\n",
       " 10000000,\n",
       " 10000000,\n",
       " 10000000,\n",
       " 10000000,\n",
       " 10000000,\n",
       " 10000000,\n",
       " 10000000,\n",
       " 10000000,\n",
       " 10000000,\n",
       " 10000000,\n",
       " 10000000,\n",
       " 10000000,\n",
       " 10000000,\n",
       " 10000000,\n",
       " 10000000,\n",
       " 10000000,\n",
       " 10000000,\n",
       " 10000000,\n",
       " 10000000,\n",
       " 10000000,\n",
       " 10000000,\n",
       " 10000000,\n",
       " 10000000,\n",
       " 10000000,\n",
       " 10000000,\n",
       " 10000000,\n",
       " 10000000,\n",
       " 10000000,\n",
       " 10000000,\n",
       " 10000000,\n",
       " 10000000,\n",
       " 10000000,\n",
       " 10000000,\n",
       " 10000000,\n",
       " 10000000,\n",
       " 10000000,\n",
       " 10000000,\n",
       " 10000000,\n",
       " 10000000,\n",
       " 10000000,\n",
       " 10000000,\n",
       " 10000000,\n",
       " 10000000,\n",
       " 10000000,\n",
       " 10000000,\n",
       " 10000000,\n",
       " 10000000,\n",
       " 10000000,\n",
       " 10000000,\n",
       " 10000000,\n",
       " 10000000,\n",
       " 10000000,\n",
       " 10000000,\n",
       " 10000000,\n",
       " 10000000,\n",
       " 10000000,\n",
       " 10000000,\n",
       " 10000000,\n",
       " 10000000,\n",
       " 10000000,\n",
       " 10000000,\n",
       " 10000000,\n",
       " 10000000,\n",
       " 10000000]"
      ]
     },
     "execution_count": 90,
     "metadata": {},
     "output_type": "execute_result"
    }
   ],
   "source": [
    "%%time\n",
    "# gather results \n",
    "client.gather(a)"
   ]
  }
 ],
 "metadata": {
  "kernelspec": {
   "display_name": "Python [conda env:root] *",
   "language": "python",
   "name": "conda-root-py"
  },
  "language_info": {
   "codemirror_mode": {
    "name": "ipython",
    "version": 3
   },
   "file_extension": ".py",
   "mimetype": "text/x-python",
   "name": "python",
   "nbconvert_exporter": "python",
   "pygments_lexer": "ipython3",
   "version": "3.7.6"
  }
 },
 "nbformat": 4,
 "nbformat_minor": 4
}
