{
 "cells": [
  {
   "cell_type": "code",
   "execution_count": 2,
   "metadata": {},
   "outputs": [],
   "source": [
    "import os\n",
    "from dask.distributed import as_completed, Client\n",
    "\n",
    "def process_file(name):\n",
    "    return '!' + name\n",
    "\n",
    "def process_files(context, path=''):\n",
    "    files = os.listdir(path)\n",
    "    futures = context.dask_client.map(process_file, files)\n",
    "    for batch in as_completed(futures, with_results=True).batches():\n",
    "            for future, result in batch:\n",
    "                if result:\n",
    "                    print(result)\n",
    "                else:\n",
    "                    print(\"Dask RESULT = None\")"
   ]
  },
  {
   "cell_type": "code",
   "execution_count": null,
   "metadata": {},
   "outputs": [],
   "source": []
  }
 ],
 "metadata": {
  "kernelspec": {
   "display_name": "Python [conda env:root] *",
   "language": "python",
   "name": "conda-root-py"
  },
  "language_info": {
   "codemirror_mode": {
    "name": "ipython",
    "version": 3
   },
   "file_extension": ".py",
   "mimetype": "text/x-python",
   "name": "python",
   "nbconvert_exporter": "python",
   "pygments_lexer": "ipython3",
   "version": "3.7.6"
  }
 },
 "nbformat": 4,
 "nbformat_minor": 4
}
